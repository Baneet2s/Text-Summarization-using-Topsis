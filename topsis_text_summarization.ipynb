{
  "nbformat": 4,
  "nbformat_minor": 0,
  "metadata": {
    "colab": {
      "provenance": []
    },
    "kernelspec": {
      "name": "python3",
      "display_name": "Python 3"
    },
    "language_info": {
      "name": "python"
    }
  },
  "cells": [
    {
      "cell_type": "code",
      "execution_count": 2,
      "metadata": {
        "id": "PISj2bV78hcV"
      },
      "outputs": [],
      "source": [
        "import numpy as np\n",
        "import pandas as pd\n",
        "import matplotlib.pyplot as plt\n",
        "import seaborn as sns"
      ]
    },
    {
      "cell_type": "code",
      "source": [
        "# Define models and their performance metrics\n",
        "models = [\"BART\", \"T5\", \"Pegasus\", \"GPT-3.5\"]\n",
        "data = {\n",
        "    \"ROUGE-1\": [0.45, 0.50, 0.52, 0.48],\n",
        "    \"ROUGE-2\": [0.22, 0.24, 0.26, 0.23],\n",
        "    \"ROUGE-L\": [0.40, 0.44, 0.46, 0.42],\n",
        "    \"BLEU\": [0.32, 0.35, 0.38, 0.34],\n",
        "    \"Inference Time (s)\": [1.2, 1.0, 1.1, 0.9],\n",
        "    \"Model Size (GB)\": [1.5, 2.0, 1.8, 3.2]\n",
        "}"
      ],
      "metadata": {
        "id": "6Opl69f2-kaw"
      },
      "execution_count": 3,
      "outputs": []
    },
    {
      "cell_type": "code",
      "source": [
        "# Create DataFrame\n",
        "df = pd.DataFrame(data, index=models)\n",
        "print(\"Initial Model Performance Data:\")\n",
        "print(df, \"\\n\")\n",
        "\n",
        "# Define weights and criteria (higher is better for some, lower is better for others)\n",
        "weights = np.array([0.25, 0.20, 0.20, 0.15, 0.10, 0.10])\n",
        "criteria = np.array([1, 1, 1, 1, -1, -1])  # Positive for performance, negative for resource usage\n",
        "\n",
        "print(\"Weights assigned:\", weights)\n",
        "print(\"Criteria applied:\", criteria)"
      ],
      "metadata": {
        "colab": {
          "base_uri": "https://localhost:8080/"
        },
        "id": "APEU4u5V-kog",
        "outputId": "76e835c2-4bb4-43c2-e24c-1895477261e8"
      },
      "execution_count": 4,
      "outputs": [
        {
          "output_type": "stream",
          "name": "stdout",
          "text": [
            "Initial Model Performance Data:\n",
            "         ROUGE-1  ROUGE-2  ROUGE-L  BLEU  Inference Time (s)  Model Size (GB)\n",
            "BART        0.45     0.22     0.40  0.32                 1.2              1.5\n",
            "T5          0.50     0.24     0.44  0.35                 1.0              2.0\n",
            "Pegasus     0.52     0.26     0.46  0.38                 1.1              1.8\n",
            "GPT-3.5     0.48     0.23     0.42  0.34                 0.9              3.2 \n",
            "\n",
            "Weights assigned: [0.25 0.2  0.2  0.15 0.1  0.1 ]\n",
            "Criteria applied: [ 1  1  1  1 -1 -1]\n"
          ]
        }
      ]
    },
    {
      "cell_type": "code",
      "source": [
        "# Normalize the data\n",
        "norm_data = df.values / np.sqrt((df.values ** 2).sum(axis=0))\n",
        "\n",
        "# Apply criteria (maximize or minimize)\n",
        "ideal_best = np.max(norm_data * (criteria == 1), axis=0) + np.min(norm_data * (criteria == -1), axis=0)\n",
        "ideal_worst = np.min(norm_data * (criteria == 1), axis=0) + np.max(norm_data * (criteria == -1), axis=0)\n",
        "\n",
        "# Compute distances\n",
        "dist_best = np.sqrt(((norm_data - ideal_best) ** 2).sum(axis=1))\n",
        "dist_worst = np.sqrt(((norm_data - ideal_worst) ** 2).sum(axis=1))"
      ],
      "metadata": {
        "id": "Ej_y8e54-krG"
      },
      "execution_count": 5,
      "outputs": []
    },
    {
      "cell_type": "code",
      "source": [
        "# Compute TOPSIS scores\n",
        "scores = dist_worst / (dist_best + dist_worst)\n",
        "ranks = scores.argsort()[::-1] + 1  # Rank in descending order\n",
        "df[\"TOPSIS Score\"] = scores\n",
        "df[\"Rank\"] = ranks\n",
        "print(\"TOPSIS Evaluation Complete.\")\n",
        "\n",
        "\n",
        "# Sort models by rank\n",
        "df_sorted = df.sort_values(by=\"Rank\")\n",
        "print(\"\\nFinal Model Rankings:\")\n",
        "print(df_sorted)"
      ],
      "metadata": {
        "colab": {
          "base_uri": "https://localhost:8080/"
        },
        "id": "9_7Sg2WU-kuV",
        "outputId": "ecc25c27-bb48-4282-db76-2b15107691c6"
      },
      "execution_count": 6,
      "outputs": [
        {
          "output_type": "stream",
          "name": "stdout",
          "text": [
            "TOPSIS Evaluation Complete.\n",
            "\n",
            "Final Model Rankings:\n",
            "         ROUGE-1  ROUGE-2  ROUGE-L  BLEU  Inference Time (s)  Model Size (GB)  \\\n",
            "Pegasus     0.52     0.26     0.46  0.38                 1.1              1.8   \n",
            "T5          0.50     0.24     0.44  0.35                 1.0              2.0   \n",
            "BART        0.45     0.22     0.40  0.32                 1.2              1.5   \n",
            "GPT-3.5     0.48     0.23     0.42  0.34                 0.9              3.2   \n",
            "\n",
            "         TOPSIS Score  Rank  \n",
            "Pegasus      0.753235     1  \n",
            "T5           0.682832     2  \n",
            "BART         0.644254     3  \n",
            "GPT-3.5      0.276122     4  \n"
          ]
        }
      ]
    },
    {
      "cell_type": "code",
      "source": [
        "# Plot results\n",
        "plt.figure(figsize=(10, 5))\n",
        "sns.barplot(x=df_sorted.index, y=df_sorted[\"TOPSIS Score\"], palette=\"coolwarm\")\n",
        "plt.xlabel(\"Model Name\")\n",
        "plt.ylabel(\"TOPSIS Score\")\n",
        "plt.title(\"Ranking of Text Summarization Models\")\n",
        "plt.show()"
      ],
      "metadata": {
        "colab": {
          "base_uri": "https://localhost:8080/",
          "height": 594
        },
        "id": "1nNQ5EVB-kvy",
        "outputId": "c20c6f4e-f381-455b-d427-55aab66ea859"
      },
      "execution_count": 7,
      "outputs": [
        {
          "output_type": "stream",
          "name": "stderr",
          "text": [
            "<ipython-input-7-69a51870377c>:3: FutureWarning: \n",
            "\n",
            "Passing `palette` without assigning `hue` is deprecated and will be removed in v0.14.0. Assign the `x` variable to `hue` and set `legend=False` for the same effect.\n",
            "\n",
            "  sns.barplot(x=df_sorted.index, y=df_sorted[\"TOPSIS Score\"], palette=\"coolwarm\")\n"
          ]
        },
        {
          "output_type": "display_data",
          "data": {
            "text/plain": [
              "<Figure size 1000x500 with 1 Axes>"
            ],
            "image/png": "[encoded data removed]"
          },
          "metadata": {}
        }
      ]
    },
    {
      "cell_type": "code",
      "source": [
        "# Save outputs\n",
        "df_sorted.to_csv(\"topsis_results.csv\")\n",
        "df_sorted.to_markdown(\"topsis_report.md\")\n",
        "\n",
        "print(\"Results saved: CSV (topsis_results.csv) and Markdown (topsis_report.md)\")"
      ],
      "metadata": {
        "colab": {
          "base_uri": "https://localhost:8080/"
        },
        "id": "BG7ZUbMf-kxn",
        "outputId": "75d27efa-9848-4fed-f8f7-ad72a2b8ea47"
      },
      "execution_count": 8,
      "outputs": [
        {
          "output_type": "stream",
          "name": "stdout",
          "text": [
            "Results saved: CSV (topsis_results.csv) and Markdown (topsis_report.md)\n"
          ]
        }
      ]
    }
  ]
}